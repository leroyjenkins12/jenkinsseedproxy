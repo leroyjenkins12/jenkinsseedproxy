{
 "cells": [
  {
   "cell_type": "code",
   "execution_count": 1,
   "id": "9fe5a6da",
   "metadata": {},
   "outputs": [],
   "source": [
    "import os\n",
    "import json\n",
    "from web3 import Web3\n",
    "\n",
    "#  compile  solidity\n",
    "# https://github.com/iamdefinitelyahuman/py-solc-x\n",
    "from solcx import compile_standard, install_solc\n",
    "\n",
    "with open('./contracts/IANA.sol', 'r', encoding='utf-8') as f:\n",
    "    iana_file = f.read()\n",
    "\n",
    "#  download 0.8.0 Version of Solidity compiler \n",
    "install_solc('0.8.0')\n",
    "\n",
    "#  compile Solidity\n",
    "compiled_sol = compile_standard(\n",
    "    {\n",
    "        \"language\": \"Solidity\",\n",
    "        # Solidity file \n",
    "        \"sources\": {\"IANA.sol\": {\"content\": iana_file}},\n",
    "        \"settings\": {\n",
    "            \"outputSelection\": {\n",
    "                \"*\": {\n",
    "                    #  Content generated after compilation \n",
    "                    \"*\": [\"abi\", \"metadata\", \"evm.bytecode\", \"evm.bytecode.sourceMap\"]\n",
    "                }\n",
    "            }\n",
    "        },\n",
    "    },\n",
    "    #  edition , When writing smart contracts Solidity The version used corresponds to \n",
    "    solc_version=\"0.8.0\",\n",
    ")\n",
    "\n",
    "#  The compiled results are written to the file \n",
    "with open('compiled_code.json', 'w') as f:\n",
    "    json.dump(compiled_sol, f)"
   ]
  },
  {
   "cell_type": "code",
   "execution_count": 2,
   "id": "ee2b7696",
   "metadata": {},
   "outputs": [
    {
     "name": "stdout",
     "output_type": "stream",
     "text": [
      "Deploying Contract!\n",
      "Waiting for deploy transaction to finish...\n",
      "Deployed Done!\n",
      "contract address: 0x6070e7461273f681c895C9eC9B9Cec25aA232A11\n"
     ]
    }
   ],
   "source": [
    "from compile import *\n",
    "from dotenv import load_dotenv\n",
    "\n",
    "load_dotenv()\n",
    "\n",
    "w3 = Web3(Web3.HTTPProvider(os.getenv(\"GANACHE_RPC_URL\")))\n",
    "chain_id = 1337\n",
    "\n",
    "my_address = os.getenv(\"ACCOUNT_ADDRESS\")\n",
    "private_key = os.getenv(\"PRIVATE_KEY\")\n",
    "\n",
    "#  Compiled bytecode of smart contract （ Data on the chain ）\n",
    "bytecode = compiled_sol[\"contracts\"][\"IANA.sol\"][\"IANA\"][\"evm\"][\"bytecode\"][\"object\"]\n",
    "\n",
    "# ABI (Application Binary Interface), An interface for interacting with methods in a smart contract \n",
    "abi = json.loads(\n",
    "    compiled_sol[\"contracts\"][\"IANA.sol\"][\"IANA\"][\"metadata\"]\n",
    "    )[\"output\"][\"abi\"]\n",
    "\n",
    "#  Build smart contract objects \n",
    "iana = w3.eth.contract(abi=abi, bytecode=bytecode)\n",
    "#  Of the last transaction in the current blockchain nonce\n",
    "nonce = w3.eth.get_transaction_count(my_address)\n",
    "\n",
    "#  Deploy smart contracts  -  Create transaction \n",
    "transaction = iana.constructor().buildTransaction({\n",
    "    \"gasPrice\": w3.eth.gas_price,\n",
    "    \"chainId\": chain_id, \n",
    "    \"from\": my_address, \n",
    "    \"nonce\": nonce\n",
    "    }\n",
    ")\n",
    "#  Sign the current transaction  -  Prove that you initiated the transaction \n",
    "signed_txn = w3.eth.account.sign_transaction(transaction, private_key=private_key)\n",
    "print(\"Deploying Contract!\")\n",
    "\n",
    "#  Start deployment  -  Sending transaction \n",
    "tx_hash = w3.eth.send_raw_transaction(signed_txn.rawTransaction)\n",
    "print('Waiting for deploy transaction to finish...')\n",
    "#  Wait for smart contract deployment results , After deployment , Will get the address of the contract \n",
    "tx_receipt = w3.eth.wait_for_transaction_receipt(tx_hash)\n",
    "print('Deployed Done!')\n",
    "print(\"contract address: \" + tx_receipt.contractAddress)"
   ]
  },
  {
   "cell_type": "code",
   "execution_count": 14,
   "id": "824d8d51",
   "metadata": {},
   "outputs": [],
   "source": [
    "with open('./contracts/Recover.sol', 'r', encoding='utf-8') as f:\n",
    "    recover_file = f.read()\n",
    "\n",
    "#  download 0.8.0 Version of Solidity compiler \n",
    "install_solc('0.8.0')\n",
    "\n",
    "#  compile Solidity\n",
    "compiled_recover_sol = compile_standard(\n",
    "    {\n",
    "        \"language\": \"Solidity\",\n",
    "        # Solidity file \n",
    "        \"sources\": {\"Recover.sol\": {\"content\": recover_file}},\n",
    "        \"settings\": {\n",
    "            \"outputSelection\": {\n",
    "                \"*\": {\n",
    "                    #  Content generated after compilation \n",
    "                    \"*\": [\"abi\", \"metadata\", \"evm.bytecode\", \"evm.bytecode.sourceMap\"]\n",
    "                }\n",
    "            }\n",
    "        },\n",
    "    },\n",
    "    #  edition , When writing smart contracts Solidity The version used corresponds to \n",
    "    solc_version=\"0.8.0\",\n",
    ")\n",
    "\n",
    "#  The compiled results are written to the file \n",
    "with open('compiled_recover_code.json', 'w') as f:\n",
    "    json.dump(compiled_recover_sol, f)"
   ]
  },
  {
   "cell_type": "code",
   "execution_count": 15,
   "id": "bbc4252e",
   "metadata": {},
   "outputs": [
    {
     "name": "stdout",
     "output_type": "stream",
     "text": [
      "Deploying Contract!\n",
      "Waiting for deploy transaction to finish...\n",
      "Deployed Done!\n",
      "contract address: 0x4Baaf160c88e5B03AC53Ec471E22fb5Ae7935d9A\n"
     ]
    }
   ],
   "source": [
    "from compile_recover import *\n",
    "from dotenv import load_dotenv\n",
    "\n",
    "load_dotenv()\n",
    "\n",
    "w3 = Web3(Web3.HTTPProvider(os.getenv(\"GANACHE_RPC_URL\")))\n",
    "chain_id = 1337\n",
    "\n",
    "my_address = os.getenv(\"ACCOUNT_ADDRESS\")\n",
    "private_key = os.getenv(\"PRIVATE_KEY\")\n",
    "\n",
    "#  Compiled bytecode of smart contract （ Data on the chain ）\n",
    "bytecode = compiled_recover_sol[\"contracts\"][\"Recover.sol\"][\"Recover\"][\"evm\"][\"bytecode\"][\"object\"]\n",
    "\n",
    "# ABI (Application Binary Interface), An interface for interacting with methods in a smart contract \n",
    "abi = json.loads(\n",
    "    compiled_recover_sol[\"contracts\"][\"Recover.sol\"][\"Recover\"][\"metadata\"]\n",
    "    )[\"output\"][\"abi\"]\n",
    "\n",
    "#  Build smart contract objects \n",
    "recover = w3.eth.contract(abi=abi, bytecode=bytecode)\n",
    "#  Of the last transaction in the current blockchain nonce\n",
    "nonce = w3.eth.get_transaction_count(my_address)\n",
    "\n",
    "#  Deploy smart contracts  -  Create transaction \n",
    "transaction = recover.constructor().buildTransaction({\n",
    "    \"gasPrice\": w3.eth.gas_price,\n",
    "    \"chainId\": chain_id, \n",
    "    \"from\": my_address, \n",
    "    \"nonce\": nonce\n",
    "    }\n",
    ")\n",
    "#  Sign the current transaction  -  Prove that you initiated the transaction \n",
    "signed_txn = w3.eth.account.sign_transaction(transaction, private_key=private_key)\n",
    "print(\"Deploying Contract!\")\n",
    "\n",
    "#  Start deployment  -  Sending transaction \n",
    "tx_hash = w3.eth.send_raw_transaction(signed_txn.rawTransaction)\n",
    "print('Waiting for deploy transaction to finish...')\n",
    "#  Wait for smart contract deployment results , After deployment , Will get the address of the contract \n",
    "tx_receipt = w3.eth.wait_for_transaction_receipt(tx_hash)\n",
    "print('Deployed Done!')\n",
    "print(\"contract address: \" + tx_receipt.contractAddress)"
   ]
  },
  {
   "cell_type": "code",
   "execution_count": 74,
   "id": "2c2e03ea",
   "metadata": {},
   "outputs": [],
   "source": [
    "from utils.utils import *\n",
    "from eth_account.messages import encode_defunct, _hash_eip191_message"
   ]
  },
  {
   "cell_type": "code",
   "execution_count": 7,
   "id": "e7a0c8bd",
   "metadata": {},
   "outputs": [],
   "source": [
    "load_dotenv()\n",
    "\n",
    "w3 = Web3(Web3.HTTPProvider(os.getenv(\"GANACHE_RPC_URL\")))\n",
    "chain_id = 1337\n",
    "my_address = os.getenv(\"ACCOUNT_ADDRESS\")\n",
    "private_key = os.getenv(\"PRIVATE_KEY\")\n",
    "# ABI (Application Binary Interface), An interface for interacting with methods in a smart contract \n",
    "abi = json.loads(\n",
    "    compiled_sol[\"contracts\"][\"IANA.sol\"][\"IANA\"][\"metadata\"]\n",
    "    )[\"output\"][\"abi\"]\n",
    "\n",
    "#  call deploy.py Will get contract_address\n",
    "contract_address = os.getenv(\"CONTRACT_ADDRESS\")\n",
    "\n",
    "nonce = w3.eth.get_transaction_count(my_address)\n",
    "\n",
    "#  Instantiate the contract object \n",
    "iana = w3.eth.contract(address=contract_address, abi=abi)"
   ]
  },
  {
   "cell_type": "code",
   "execution_count": 68,
   "id": "dbb91ba2",
   "metadata": {},
   "outputs": [
    {
     "ename": "ValueError",
     "evalue": "Please ensure that this contract instance has an address.",
     "output_type": "error",
     "traceback": [
      "\u001b[0;31m---------------------------------------------------------------------------\u001b[0m",
      "\u001b[0;31mValueError\u001b[0m                                Traceback (most recent call last)",
      "Input \u001b[0;32mIn [68]\u001b[0m, in \u001b[0;36m<cell line: 1>\u001b[0;34m()\u001b[0m\n\u001b[0;32m----> 1\u001b[0m msgToBeSigned \u001b[38;5;241m=\u001b[39m \u001b[43miana\u001b[49m\u001b[38;5;241;43m.\u001b[39;49m\u001b[43mfunctions\u001b[49m\u001b[38;5;241;43m.\u001b[39;49m\u001b[43mIANA_getSignatureMessage\u001b[49m\u001b[43m(\u001b[49m\u001b[38;5;241;43m2\u001b[39;49m\u001b[43m,\u001b[49m\u001b[43m \u001b[49m\u001b[43mos\u001b[49m\u001b[38;5;241;43m.\u001b[39;49m\u001b[43mgetenv\u001b[49m\u001b[43m(\u001b[49m\u001b[38;5;124;43m\"\u001b[39;49m\u001b[38;5;124;43mACCOUNT2_ADDRESS\u001b[39;49m\u001b[38;5;124;43m\"\u001b[39;49m\u001b[43m)\u001b[49m\u001b[43m)\u001b[49m\u001b[38;5;241;43m.\u001b[39;49m\u001b[43mcall\u001b[49m\u001b[43m(\u001b[49m\u001b[43m)\u001b[49m\n\u001b[1;32m      2\u001b[0m \u001b[38;5;28mprint\u001b[39m(msgToBeSigned)\n\u001b[1;32m      3\u001b[0m msgToBeSignedEncoded \u001b[38;5;241m=\u001b[39m encode_defunct(text\u001b[38;5;241m=\u001b[39mmsgToBeSigned\u001b[38;5;241m.\u001b[39mhex()) \t\u001b[38;5;66;03m# encode msg\u001b[39;00m\n",
      "File \u001b[0;32m~/Desktop/Research/BGP_Chain/bgp_smart_contracts/m1-venv/lib/python3.10/site-packages/web3/contract.py:951\u001b[0m, in \u001b[0;36mContractFunction.call\u001b[0;34m(self, transaction, block_identifier, state_override)\u001b[0m\n\u001b[1;32m    945\u001b[0m         \u001b[38;5;28;01mraise\u001b[39;00m \u001b[38;5;167;01mValueError\u001b[39;00m(\n\u001b[1;32m    946\u001b[0m             \u001b[38;5;124m\"\u001b[39m\u001b[38;5;124mWhen using `Contract.[methodtype].[method].call()` from\u001b[39m\u001b[38;5;124m\"\u001b[39m\n\u001b[1;32m    947\u001b[0m             \u001b[38;5;124m\"\u001b[39m\u001b[38;5;124m a contract factory you \u001b[39m\u001b[38;5;124m\"\u001b[39m\n\u001b[1;32m    948\u001b[0m             \u001b[38;5;124m\"\u001b[39m\u001b[38;5;124mmust provide a `to` address with the transaction\u001b[39m\u001b[38;5;124m\"\u001b[39m\n\u001b[1;32m    949\u001b[0m         )\n\u001b[1;32m    950\u001b[0m     \u001b[38;5;28;01melse\u001b[39;00m:\n\u001b[0;32m--> 951\u001b[0m         \u001b[38;5;28;01mraise\u001b[39;00m \u001b[38;5;167;01mValueError\u001b[39;00m(\n\u001b[1;32m    952\u001b[0m             \u001b[38;5;124m\"\u001b[39m\u001b[38;5;124mPlease ensure that this contract instance has an address.\u001b[39m\u001b[38;5;124m\"\u001b[39m\n\u001b[1;32m    953\u001b[0m         )\n\u001b[1;32m    955\u001b[0m block_id \u001b[38;5;241m=\u001b[39m parse_block_identifier(\u001b[38;5;28mself\u001b[39m\u001b[38;5;241m.\u001b[39mweb3, block_identifier)\n\u001b[1;32m    957\u001b[0m \u001b[38;5;28;01mreturn\u001b[39;00m call_contract_function(\n\u001b[1;32m    958\u001b[0m     \u001b[38;5;28mself\u001b[39m\u001b[38;5;241m.\u001b[39mweb3,\n\u001b[1;32m    959\u001b[0m     \u001b[38;5;28mself\u001b[39m\u001b[38;5;241m.\u001b[39maddress,\n\u001b[0;32m   (...)\u001b[0m\n\u001b[1;32m    968\u001b[0m     \u001b[38;5;241m*\u001b[39m\u001b[38;5;241m*\u001b[39m\u001b[38;5;28mself\u001b[39m\u001b[38;5;241m.\u001b[39mkwargs\n\u001b[1;32m    969\u001b[0m )\n",
      "\u001b[0;31mValueError\u001b[0m: Please ensure that this contract instance has an address."
     ]
    }
   ],
   "source": [
    "msgToBeSigned = iana.functions.IANA_getSignatureMessage(2, os.getenv(\"ACCOUNT2_ADDRESS\")).call()\n",
    "print(msgToBeSigned)\n",
    "msgToBeSignedEncoded = encode_defunct(text=msgToBeSigned.hex()) \t# encode msg\n",
    "print(msgToBeSignedEncoded)"
   ]
  },
  {
   "cell_type": "code",
   "execution_count": 30,
   "id": "1fed8619",
   "metadata": {},
   "outputs": [],
   "source": [
    "acct2_priv_key = os.getenv(\"ACCOUNT2_PRIVATE_KEY\")"
   ]
  },
  {
   "cell_type": "code",
   "execution_count": 31,
   "id": "3b5b4d0d",
   "metadata": {},
   "outputs": [
    {
     "name": "stdout",
     "output_type": "stream",
     "text": [
      "SignedMessage(messageHash=HexBytes('0xc46ca3f13027eab29a2708ee0a92a336626483d0a8ae661eeefc37e72ceb8b4e'), r=25220368283057574198236257725980923427714442422506267022753236144755710097102, s=53081634886786488305536368506385894731144849654380448965729957872795793693582, v=27, signature=HexBytes('0x37c238fb94c8f18ce8b6ff4276dc8a3fbab8a5f2f085ebcfdc0d539af18ff6ce755b24021b2af92f481af1f4d91bf5ce5851951ed415466985a9600f122f1b8e1b'))\n"
     ]
    }
   ],
   "source": [
    "msgSigned = w3.eth.account.sign_message(msgToBeSignedEncoded, private_key=acct2_priv_key) # sign message\n",
    "print(msgSigned)"
   ]
  },
  {
   "cell_type": "code",
   "execution_count": 32,
   "id": "398aecf9",
   "metadata": {},
   "outputs": [
    {
     "name": "stdout",
     "output_type": "stream",
     "text": [
      "0x79bb7739B28ab9D6a846012156f5eadD0dE67361\n",
      "True\n"
     ]
    }
   ],
   "source": [
    "# Check that we can recover the message we signed.\n",
    "# Output should be the public address of ACCOUNT2_ADDRESS\n",
    "addr = w3.eth.account.recover_message(msgToBeSignedEncoded, signature=msgSigned.signature) # output should be public address of acct2\n",
    "print(addr)\n",
    "print(addr == os.getenv(\"ACCOUNT2_ADDRESS\"))"
   ]
  },
  {
   "cell_type": "code",
   "execution_count": 36,
   "id": "430f7886",
   "metadata": {},
   "outputs": [
    {
     "name": "stdout",
     "output_type": "stream",
     "text": [
      "('0xc46ca3f13027eab29a2708ee0a92a336626483d0a8ae661eeefc37e72ceb8b4e', 27, '0x37c238fb94c8f18ce8b6ff4276dc8a3fbab8a5f2f085ebcfdc0d539af18ff6ce', '0x755b24021b2af92f481af1f4d91bf5ce5851951ed415466985a9600f122f1b8e')\n"
     ]
    }
   ],
   "source": [
    "# Generate sigV, sigR, sigS for IANA validation\n",
    "ec_recover_args_iana = (msgSignedHash, sigV, sigR, sigS) = (Web3.toHex(msgSigned.messageHash), msgSigned.v, utils.to_32byte_hex(msgSigned.r), utils.to_32byte_hex(msgSigned.s))\n",
    "print(ec_recover_args_iana)"
   ]
  },
  {
   "cell_type": "code",
   "execution_count": 65,
   "id": "2638296d",
   "metadata": {},
   "outputs": [
    {
     "name": "stdout",
     "output_type": "stream",
     "text": [
      "0x5947F040323EA9137c51daCF3A4E6215563d901a\n"
     ]
    }
   ],
   "source": [
    "load_dotenv(override=True)\n",
    "\n",
    "my_address = os.getenv(\"ACCOUNT_ADDRESS\")\n",
    "private_key = os.getenv(\"PRIVATE_KEY\")\n",
    "# ABI (Application Binary Interface), An interface for interacting with methods in a smart contract \n",
    "abi = json.loads(\n",
    "    compiled_recover_sol[\"contracts\"][\"Recover.sol\"][\"Recover\"][\"metadata\"]\n",
    "    )[\"output\"][\"abi\"]\n",
    "\n",
    "#  call deploy.py Will get contract_address\n",
    "contract_address = os.getenv(\"RECOVER_CONTRACT_ADDRESS\")\n",
    "print(contract_address)\n",
    "nonce = w3.eth.get_transaction_count(my_address)\n",
    "\n",
    "#  Instantiate the contract object \n",
    "recover = w3.eth.contract(address=contract_address, abi=abi)"
   ]
  },
  {
   "cell_type": "code",
   "execution_count": 72,
   "id": "a2af0809",
   "metadata": {},
   "outputs": [
    {
     "name": "stdout",
     "output_type": "stream",
     "text": [
      "0x79bb7739B28ab9D6a846012156f5eadD0dE67361\n"
     ]
    }
   ],
   "source": [
    "# Check we can recover via Recover contract -> output should be acct2.address\n",
    "\n",
    "tx = recover.functions.ecr(msgSignedHash, sigV, sigR, sigS).call()\n",
    "print(tx)\n"
   ]
  },
  {
   "cell_type": "code",
   "execution_count": 4,
   "id": "673764a2",
   "metadata": {},
   "outputs": [
    {
     "name": "stdout",
     "output_type": "stream",
     "text": [
      "0x79bb7739B28ab9D6a846012156f5eadD0dE67361\n"
     ]
    },
    {
     "ename": "ContractLogicError",
     "evalue": "execution reverted: VM Exception while processing transaction: revert ASN<=>ASNOwner mapping already added",
     "output_type": "error",
     "traceback": [
      "\u001b[0;31m---------------------------------------------------------------------------\u001b[0m",
      "\u001b[0;31mContractLogicError\u001b[0m                        Traceback (most recent call last)",
      "Input \u001b[0;32mIn [4]\u001b[0m, in \u001b[0;36m<cell line: 39>\u001b[0;34m()\u001b[0m\n\u001b[1;32m     36\u001b[0m msgSignedHash, sigV, sigR, sigS \u001b[38;5;241m=\u001b[39m utils\u001b[38;5;241m.\u001b[39mgenerate_sig_v_r_s(msgSigned) \u001b[38;5;66;03m# generate hash of signed msg, sigV, sigR, sigS\u001b[39;00m\n\u001b[1;32m     38\u001b[0m \u001b[38;5;66;03m#  call addPrefix Method \u001b[39;00m\n\u001b[0;32m---> 39\u001b[0m transaction \u001b[38;5;241m=\u001b[39m \u001b[43miana\u001b[49m\u001b[38;5;241;43m.\u001b[39;49m\u001b[43mfunctions\u001b[49m\u001b[38;5;241;43m.\u001b[39;49m\u001b[43mIANA_addASNSigned\u001b[49m\u001b[43m(\u001b[49m\u001b[43minASN\u001b[49m\u001b[43m,\u001b[49m\u001b[43m \u001b[49m\u001b[43minAddress\u001b[49m\u001b[43m,\u001b[49m\u001b[43m \u001b[49m\u001b[43mmsgSignedHash\u001b[49m\u001b[43m,\u001b[49m\u001b[43m \u001b[49m\u001b[43msigV\u001b[49m\u001b[43m,\u001b[49m\u001b[43m \u001b[49m\u001b[43msigR\u001b[49m\u001b[43m,\u001b[49m\u001b[43m \u001b[49m\u001b[43msigS\u001b[49m\u001b[43m)\u001b[49m\u001b[38;5;241;43m.\u001b[39;49m\u001b[43mbuildTransaction\u001b[49m\u001b[43m(\u001b[49m\u001b[43m{\u001b[49m\n\u001b[1;32m     40\u001b[0m \u001b[43m    \u001b[49m\u001b[38;5;124;43m\"\u001b[39;49m\u001b[38;5;124;43mgasPrice\u001b[39;49m\u001b[38;5;124;43m\"\u001b[39;49m\u001b[43m:\u001b[49m\u001b[43m \u001b[49m\u001b[43mw3\u001b[49m\u001b[38;5;241;43m.\u001b[39;49m\u001b[43meth\u001b[49m\u001b[38;5;241;43m.\u001b[39;49m\u001b[43mgas_price\u001b[49m\u001b[43m,\u001b[49m\n\u001b[1;32m     41\u001b[0m \u001b[43m    \u001b[49m\u001b[38;5;124;43m\"\u001b[39;49m\u001b[38;5;124;43mchainId\u001b[39;49m\u001b[38;5;124;43m\"\u001b[39;49m\u001b[43m:\u001b[49m\u001b[43m \u001b[49m\u001b[43mchain_id\u001b[49m\u001b[43m,\u001b[49m\n\u001b[1;32m     42\u001b[0m \u001b[43m    \u001b[49m\u001b[38;5;124;43m\"\u001b[39;49m\u001b[38;5;124;43mfrom\u001b[39;49m\u001b[38;5;124;43m\"\u001b[39;49m\u001b[43m:\u001b[49m\u001b[43m \u001b[49m\u001b[43mmy_address\u001b[49m\u001b[43m,\u001b[49m\n\u001b[1;32m     43\u001b[0m \u001b[43m    \u001b[49m\u001b[38;5;124;43m\"\u001b[39;49m\u001b[38;5;124;43mnonce\u001b[39;49m\u001b[38;5;124;43m\"\u001b[39;49m\u001b[43m:\u001b[49m\u001b[43m \u001b[49m\u001b[43mnonce\u001b[49m\n\u001b[1;32m     44\u001b[0m \u001b[43m}\u001b[49m\u001b[43m)\u001b[49m\n\u001b[1;32m     45\u001b[0m \u001b[38;5;66;03m#  Signature \u001b[39;00m\n\u001b[1;32m     46\u001b[0m signed_transaction \u001b[38;5;241m=\u001b[39m w3\u001b[38;5;241m.\u001b[39meth\u001b[38;5;241m.\u001b[39maccount\u001b[38;5;241m.\u001b[39msign_transaction(transaction, private_key\u001b[38;5;241m=\u001b[39mprivate_key)\n",
      "File \u001b[0;32m~/Desktop/Research/BGP_Chain/bgp_smart_contracts/m1-venv/lib/python3.10/site-packages/web3/contract.py:1079\u001b[0m, in \u001b[0;36mContractFunction.buildTransaction\u001b[0;34m(self, transaction)\u001b[0m\n\u001b[1;32m   1074\u001b[0m \u001b[38;5;28;01mif\u001b[39;00m \u001b[38;5;124m'\u001b[39m\u001b[38;5;124mto\u001b[39m\u001b[38;5;124m'\u001b[39m \u001b[38;5;129;01mnot\u001b[39;00m \u001b[38;5;129;01min\u001b[39;00m built_transaction:\n\u001b[1;32m   1075\u001b[0m     \u001b[38;5;28;01mraise\u001b[39;00m \u001b[38;5;167;01mValueError\u001b[39;00m(\n\u001b[1;32m   1076\u001b[0m         \u001b[38;5;124m\"\u001b[39m\u001b[38;5;124mPlease ensure that this contract instance has an address.\u001b[39m\u001b[38;5;124m\"\u001b[39m\n\u001b[1;32m   1077\u001b[0m     )\n\u001b[0;32m-> 1079\u001b[0m \u001b[38;5;28;01mreturn\u001b[39;00m \u001b[43mbuild_transaction_for_function\u001b[49m\u001b[43m(\u001b[49m\n\u001b[1;32m   1080\u001b[0m \u001b[43m    \u001b[49m\u001b[38;5;28;43mself\u001b[39;49m\u001b[38;5;241;43m.\u001b[39;49m\u001b[43maddress\u001b[49m\u001b[43m,\u001b[49m\n\u001b[1;32m   1081\u001b[0m \u001b[43m    \u001b[49m\u001b[38;5;28;43mself\u001b[39;49m\u001b[38;5;241;43m.\u001b[39;49m\u001b[43mweb3\u001b[49m\u001b[43m,\u001b[49m\n\u001b[1;32m   1082\u001b[0m \u001b[43m    \u001b[49m\u001b[38;5;28;43mself\u001b[39;49m\u001b[38;5;241;43m.\u001b[39;49m\u001b[43mfunction_identifier\u001b[49m\u001b[43m,\u001b[49m\n\u001b[1;32m   1083\u001b[0m \u001b[43m    \u001b[49m\u001b[43mbuilt_transaction\u001b[49m\u001b[43m,\u001b[49m\n\u001b[1;32m   1084\u001b[0m \u001b[43m    \u001b[49m\u001b[38;5;28;43mself\u001b[39;49m\u001b[38;5;241;43m.\u001b[39;49m\u001b[43mcontract_abi\u001b[49m\u001b[43m,\u001b[49m\n\u001b[1;32m   1085\u001b[0m \u001b[43m    \u001b[49m\u001b[38;5;28;43mself\u001b[39;49m\u001b[38;5;241;43m.\u001b[39;49m\u001b[43mabi\u001b[49m\u001b[43m,\u001b[49m\n\u001b[1;32m   1086\u001b[0m \u001b[43m    \u001b[49m\u001b[38;5;241;43m*\u001b[39;49m\u001b[38;5;28;43mself\u001b[39;49m\u001b[38;5;241;43m.\u001b[39;49m\u001b[43margs\u001b[49m\u001b[43m,\u001b[49m\n\u001b[1;32m   1087\u001b[0m \u001b[43m    \u001b[49m\u001b[38;5;241;43m*\u001b[39;49m\u001b[38;5;241;43m*\u001b[39;49m\u001b[38;5;28;43mself\u001b[39;49m\u001b[38;5;241;43m.\u001b[39;49m\u001b[43mkwargs\u001b[49m\n\u001b[1;32m   1088\u001b[0m \u001b[43m\u001b[49m\u001b[43m)\u001b[49m\n",
      "File \u001b[0;32m~/Desktop/Research/BGP_Chain/bgp_smart_contracts/m1-venv/lib/python3.10/site-packages/web3/contract.py:1648\u001b[0m, in \u001b[0;36mbuild_transaction_for_function\u001b[0;34m(address, web3, function_name, transaction, contract_abi, fn_abi, *args, **kwargs)\u001b[0m\n\u001b[1;32m   1632\u001b[0m \u001b[38;5;124;03m\"\"\"Builds a dictionary with the fields required to make the given transaction\u001b[39;00m\n\u001b[1;32m   1633\u001b[0m \n\u001b[1;32m   1634\u001b[0m \u001b[38;5;124;03mDon't call this directly, instead use :meth:`Contract.buildTransaction`\u001b[39;00m\n\u001b[1;32m   1635\u001b[0m \u001b[38;5;124;03mon your contract instance.\u001b[39;00m\n\u001b[1;32m   1636\u001b[0m \u001b[38;5;124;03m\"\"\"\u001b[39;00m\n\u001b[1;32m   1637\u001b[0m prepared_transaction \u001b[38;5;241m=\u001b[39m prepare_transaction(\n\u001b[1;32m   1638\u001b[0m     address,\n\u001b[1;32m   1639\u001b[0m     web3,\n\u001b[0;32m   (...)\u001b[0m\n\u001b[1;32m   1645\u001b[0m     fn_kwargs\u001b[38;5;241m=\u001b[39mkwargs,\n\u001b[1;32m   1646\u001b[0m )\n\u001b[0;32m-> 1648\u001b[0m prepared_transaction \u001b[38;5;241m=\u001b[39m \u001b[43mfill_transaction_defaults\u001b[49m\u001b[43m(\u001b[49m\u001b[43mweb3\u001b[49m\u001b[43m,\u001b[49m\u001b[43m \u001b[49m\u001b[43mprepared_transaction\u001b[49m\u001b[43m)\u001b[49m\n\u001b[1;32m   1650\u001b[0m \u001b[38;5;28;01mreturn\u001b[39;00m prepared_transaction\n",
      "File \u001b[0;32m~/Desktop/Research/BGP_Chain/bgp_smart_contracts/m1-venv/lib/python3.10/site-packages/cytoolz/functoolz.pyx:250\u001b[0m, in \u001b[0;36mcytoolz.functoolz.curry.__call__\u001b[0;34m()\u001b[0m\n",
      "File \u001b[0;32m~/Desktop/Research/BGP_Chain/bgp_smart_contracts/m1-venv/lib/python3.10/site-packages/web3/_utils/transactions.py:114\u001b[0m, in \u001b[0;36mfill_transaction_defaults\u001b[0;34m(web3, transaction)\u001b[0m\n\u001b[1;32m    112\u001b[0m     \u001b[38;5;28;01mif\u001b[39;00m web3 \u001b[38;5;129;01mis\u001b[39;00m \u001b[38;5;28;01mNone\u001b[39;00m:\n\u001b[1;32m    113\u001b[0m         \u001b[38;5;28;01mraise\u001b[39;00m \u001b[38;5;167;01mValueError\u001b[39;00m(\u001b[38;5;124m\"\u001b[39m\u001b[38;5;124mYou must specify a \u001b[39m\u001b[38;5;124m'\u001b[39m\u001b[38;5;132;01m%s\u001b[39;00m\u001b[38;5;124m'\u001b[39m\u001b[38;5;124m value in the transaction\u001b[39m\u001b[38;5;124m\"\u001b[39m \u001b[38;5;241m%\u001b[39m key)\n\u001b[0;32m--> 114\u001b[0m     default_val \u001b[38;5;241m=\u001b[39m \u001b[43mdefault_getter\u001b[49m\u001b[43m(\u001b[49m\u001b[43mweb3\u001b[49m\u001b[43m,\u001b[49m\u001b[43m \u001b[49m\u001b[43mtransaction\u001b[49m\u001b[43m)\u001b[49m\n\u001b[1;32m    115\u001b[0m \u001b[38;5;28;01melse\u001b[39;00m:\n\u001b[1;32m    116\u001b[0m     default_val \u001b[38;5;241m=\u001b[39m default_getter\n",
      "File \u001b[0;32m~/Desktop/Research/BGP_Chain/bgp_smart_contracts/m1-venv/lib/python3.10/site-packages/web3/_utils/transactions.py:60\u001b[0m, in \u001b[0;36m<lambda>\u001b[0;34m(web3, tx)\u001b[0m\n\u001b[1;32m     39\u001b[0m TX_PARAM_LITERALS \u001b[38;5;241m=\u001b[39m Literal[\u001b[38;5;124m'\u001b[39m\u001b[38;5;124mtype\u001b[39m\u001b[38;5;124m'\u001b[39m, \u001b[38;5;124m'\u001b[39m\u001b[38;5;124mfrom\u001b[39m\u001b[38;5;124m'\u001b[39m, \u001b[38;5;124m'\u001b[39m\u001b[38;5;124mto\u001b[39m\u001b[38;5;124m'\u001b[39m, \u001b[38;5;124m'\u001b[39m\u001b[38;5;124mgas\u001b[39m\u001b[38;5;124m'\u001b[39m, \u001b[38;5;124m'\u001b[39m\u001b[38;5;124mmaxFeePerGas\u001b[39m\u001b[38;5;124m'\u001b[39m, \u001b[38;5;124m'\u001b[39m\u001b[38;5;124mmaxPriorityFeePerGas\u001b[39m\u001b[38;5;124m'\u001b[39m,\n\u001b[1;32m     40\u001b[0m                             \u001b[38;5;124m'\u001b[39m\u001b[38;5;124mgasPrice\u001b[39m\u001b[38;5;124m'\u001b[39m, \u001b[38;5;124m'\u001b[39m\u001b[38;5;124mvalue\u001b[39m\u001b[38;5;124m'\u001b[39m, \u001b[38;5;124m'\u001b[39m\u001b[38;5;124mdata\u001b[39m\u001b[38;5;124m'\u001b[39m, \u001b[38;5;124m'\u001b[39m\u001b[38;5;124mnonce\u001b[39m\u001b[38;5;124m'\u001b[39m, \u001b[38;5;124m'\u001b[39m\u001b[38;5;124mchainId\u001b[39m\u001b[38;5;124m'\u001b[39m, \u001b[38;5;124m'\u001b[39m\u001b[38;5;124maccessList\u001b[39m\u001b[38;5;124m'\u001b[39m]\n\u001b[1;32m     42\u001b[0m VALID_TRANSACTION_PARAMS: List[TX_PARAM_LITERALS] \u001b[38;5;241m=\u001b[39m [\n\u001b[1;32m     43\u001b[0m     \u001b[38;5;124m'\u001b[39m\u001b[38;5;124mtype\u001b[39m\u001b[38;5;124m'\u001b[39m,\n\u001b[1;32m     44\u001b[0m     \u001b[38;5;124m'\u001b[39m\u001b[38;5;124mfrom\u001b[39m\u001b[38;5;124m'\u001b[39m,\n\u001b[0;32m   (...)\u001b[0m\n\u001b[1;32m     54\u001b[0m     \u001b[38;5;124m'\u001b[39m\u001b[38;5;124mchainId\u001b[39m\u001b[38;5;124m'\u001b[39m,\n\u001b[1;32m     55\u001b[0m ]\n\u001b[1;32m     57\u001b[0m TRANSACTION_DEFAULTS \u001b[38;5;241m=\u001b[39m {\n\u001b[1;32m     58\u001b[0m     \u001b[38;5;124m'\u001b[39m\u001b[38;5;124mvalue\u001b[39m\u001b[38;5;124m'\u001b[39m: \u001b[38;5;241m0\u001b[39m,\n\u001b[1;32m     59\u001b[0m     \u001b[38;5;124m'\u001b[39m\u001b[38;5;124mdata\u001b[39m\u001b[38;5;124m'\u001b[39m: \u001b[38;5;124mb\u001b[39m\u001b[38;5;124m'\u001b[39m\u001b[38;5;124m'\u001b[39m,\n\u001b[0;32m---> 60\u001b[0m     \u001b[38;5;124m'\u001b[39m\u001b[38;5;124mgas\u001b[39m\u001b[38;5;124m'\u001b[39m: \u001b[38;5;28;01mlambda\u001b[39;00m web3, tx: \u001b[43mweb3\u001b[49m\u001b[38;5;241;43m.\u001b[39;49m\u001b[43meth\u001b[49m\u001b[38;5;241;43m.\u001b[39;49m\u001b[43mestimate_gas\u001b[49m\u001b[43m(\u001b[49m\u001b[43mtx\u001b[49m\u001b[43m)\u001b[49m,\n\u001b[1;32m     61\u001b[0m     \u001b[38;5;124m'\u001b[39m\u001b[38;5;124mgasPrice\u001b[39m\u001b[38;5;124m'\u001b[39m: \u001b[38;5;28;01mlambda\u001b[39;00m web3, tx: web3\u001b[38;5;241m.\u001b[39meth\u001b[38;5;241m.\u001b[39mgenerate_gas_price(tx) \u001b[38;5;129;01mor\u001b[39;00m web3\u001b[38;5;241m.\u001b[39meth\u001b[38;5;241m.\u001b[39mgas_price,\n\u001b[1;32m     62\u001b[0m     \u001b[38;5;124m'\u001b[39m\u001b[38;5;124mmaxFeePerGas\u001b[39m\u001b[38;5;124m'\u001b[39m: (\n\u001b[1;32m     63\u001b[0m         \u001b[38;5;28;01mlambda\u001b[39;00m web3, tx:\n\u001b[1;32m     64\u001b[0m         web3\u001b[38;5;241m.\u001b[39meth\u001b[38;5;241m.\u001b[39mmax_priority_fee \u001b[38;5;241m+\u001b[39m (\u001b[38;5;241m2\u001b[39m \u001b[38;5;241m*\u001b[39m web3\u001b[38;5;241m.\u001b[39meth\u001b[38;5;241m.\u001b[39mget_block(\u001b[38;5;124m'\u001b[39m\u001b[38;5;124mlatest\u001b[39m\u001b[38;5;124m'\u001b[39m)[\u001b[38;5;124m'\u001b[39m\u001b[38;5;124mbaseFeePerGas\u001b[39m\u001b[38;5;124m'\u001b[39m])\n\u001b[1;32m     65\u001b[0m     ),\n\u001b[1;32m     66\u001b[0m     \u001b[38;5;124m'\u001b[39m\u001b[38;5;124mmaxPriorityFeePerGas\u001b[39m\u001b[38;5;124m'\u001b[39m: \u001b[38;5;28;01mlambda\u001b[39;00m web3, tx: web3\u001b[38;5;241m.\u001b[39meth\u001b[38;5;241m.\u001b[39mmax_priority_fee,\n\u001b[1;32m     67\u001b[0m     \u001b[38;5;124m'\u001b[39m\u001b[38;5;124mchainId\u001b[39m\u001b[38;5;124m'\u001b[39m: \u001b[38;5;28;01mlambda\u001b[39;00m web3, tx: web3\u001b[38;5;241m.\u001b[39meth\u001b[38;5;241m.\u001b[39mchain_id,\n\u001b[1;32m     68\u001b[0m }\n\u001b[1;32m     70\u001b[0m \u001b[38;5;28;01mif\u001b[39;00m TYPE_CHECKING:\n\u001b[1;32m     71\u001b[0m     \u001b[38;5;28;01mfrom\u001b[39;00m \u001b[38;5;21;01mweb3\u001b[39;00m \u001b[38;5;28;01mimport\u001b[39;00m Web3  \u001b[38;5;66;03m# noqa: F401\u001b[39;00m\n",
      "File \u001b[0;32m~/Desktop/Research/BGP_Chain/bgp_smart_contracts/m1-venv/lib/python3.10/site-packages/web3/eth.py:868\u001b[0m, in \u001b[0;36mEth.estimate_gas\u001b[0;34m(self, transaction, block_identifier)\u001b[0m\n\u001b[1;32m    863\u001b[0m \u001b[38;5;28;01mdef\u001b[39;00m \u001b[38;5;21mestimate_gas\u001b[39m(\n\u001b[1;32m    864\u001b[0m     \u001b[38;5;28mself\u001b[39m,\n\u001b[1;32m    865\u001b[0m     transaction: TxParams,\n\u001b[1;32m    866\u001b[0m     block_identifier: Optional[BlockIdentifier] \u001b[38;5;241m=\u001b[39m \u001b[38;5;28;01mNone\u001b[39;00m\n\u001b[1;32m    867\u001b[0m ) \u001b[38;5;241m-\u001b[39m\u001b[38;5;241m>\u001b[39m Wei:\n\u001b[0;32m--> 868\u001b[0m     \u001b[38;5;28;01mreturn\u001b[39;00m \u001b[38;5;28;43mself\u001b[39;49m\u001b[38;5;241;43m.\u001b[39;49m\u001b[43m_estimate_gas\u001b[49m\u001b[43m(\u001b[49m\u001b[43mtransaction\u001b[49m\u001b[43m,\u001b[49m\u001b[43m \u001b[49m\u001b[43mblock_identifier\u001b[49m\u001b[43m)\u001b[49m\n",
      "File \u001b[0;32m~/Desktop/Research/BGP_Chain/bgp_smart_contracts/m1-venv/lib/python3.10/site-packages/web3/module.py:57\u001b[0m, in \u001b[0;36mretrieve_blocking_method_call_fn.<locals>.caller\u001b[0;34m(*args, **kwargs)\u001b[0m\n\u001b[1;32m     55\u001b[0m     \u001b[38;5;28;01mreturn\u001b[39;00m LogFilter(eth_module\u001b[38;5;241m=\u001b[39mmodule, filter_id\u001b[38;5;241m=\u001b[39merr\u001b[38;5;241m.\u001b[39mfilter_id)\n\u001b[1;32m     56\u001b[0m result_formatters, error_formatters, null_result_formatters \u001b[38;5;241m=\u001b[39m response_formatters\n\u001b[0;32m---> 57\u001b[0m result \u001b[38;5;241m=\u001b[39m \u001b[43mw3\u001b[49m\u001b[38;5;241;43m.\u001b[39;49m\u001b[43mmanager\u001b[49m\u001b[38;5;241;43m.\u001b[39;49m\u001b[43mrequest_blocking\u001b[49m\u001b[43m(\u001b[49m\u001b[43mmethod_str\u001b[49m\u001b[43m,\u001b[49m\n\u001b[1;32m     58\u001b[0m \u001b[43m                                     \u001b[49m\u001b[43mparams\u001b[49m\u001b[43m,\u001b[49m\n\u001b[1;32m     59\u001b[0m \u001b[43m                                     \u001b[49m\u001b[43merror_formatters\u001b[49m\u001b[43m,\u001b[49m\n\u001b[1;32m     60\u001b[0m \u001b[43m                                     \u001b[49m\u001b[43mnull_result_formatters\u001b[49m\u001b[43m)\u001b[49m\n\u001b[1;32m     61\u001b[0m \u001b[38;5;28;01mreturn\u001b[39;00m apply_result_formatters(result_formatters, result)\n",
      "File \u001b[0;32m~/Desktop/Research/BGP_Chain/bgp_smart_contracts/m1-venv/lib/python3.10/site-packages/web3/manager.py:198\u001b[0m, in \u001b[0;36mRequestManager.request_blocking\u001b[0;34m(self, method, params, error_formatters, null_result_formatters)\u001b[0m\n\u001b[1;32m    194\u001b[0m \u001b[38;5;124;03m\"\"\"\u001b[39;00m\n\u001b[1;32m    195\u001b[0m \u001b[38;5;124;03mMake a synchronous request using the provider\u001b[39;00m\n\u001b[1;32m    196\u001b[0m \u001b[38;5;124;03m\"\"\"\u001b[39;00m\n\u001b[1;32m    197\u001b[0m response \u001b[38;5;241m=\u001b[39m \u001b[38;5;28mself\u001b[39m\u001b[38;5;241m.\u001b[39m_make_request(method, params)\n\u001b[0;32m--> 198\u001b[0m \u001b[38;5;28;01mreturn\u001b[39;00m \u001b[38;5;28;43mself\u001b[39;49m\u001b[38;5;241;43m.\u001b[39;49m\u001b[43mformatted_response\u001b[49m\u001b[43m(\u001b[49m\u001b[43mresponse\u001b[49m\u001b[43m,\u001b[49m\n\u001b[1;32m    199\u001b[0m \u001b[43m                               \u001b[49m\u001b[43mparams\u001b[49m\u001b[43m,\u001b[49m\n\u001b[1;32m    200\u001b[0m \u001b[43m                               \u001b[49m\u001b[43merror_formatters\u001b[49m\u001b[43m,\u001b[49m\n\u001b[1;32m    201\u001b[0m \u001b[43m                               \u001b[49m\u001b[43mnull_result_formatters\u001b[49m\u001b[43m)\u001b[49m\n",
      "File \u001b[0;32m~/Desktop/Research/BGP_Chain/bgp_smart_contracts/m1-venv/lib/python3.10/site-packages/web3/manager.py:170\u001b[0m, in \u001b[0;36mRequestManager.formatted_response\u001b[0;34m(response, params, error_formatters, null_result_formatters)\u001b[0m\n\u001b[1;32m    162\u001b[0m \u001b[38;5;129m@staticmethod\u001b[39m\n\u001b[1;32m    163\u001b[0m \u001b[38;5;28;01mdef\u001b[39;00m \u001b[38;5;21mformatted_response\u001b[39m(\n\u001b[1;32m    164\u001b[0m     response: RPCResponse,\n\u001b[0;32m   (...)\u001b[0m\n\u001b[1;32m    167\u001b[0m     null_result_formatters: Optional[Callable[\u001b[38;5;241m.\u001b[39m\u001b[38;5;241m.\u001b[39m\u001b[38;5;241m.\u001b[39m, Any]] \u001b[38;5;241m=\u001b[39m \u001b[38;5;28;01mNone\u001b[39;00m,\n\u001b[1;32m    168\u001b[0m ) \u001b[38;5;241m-\u001b[39m\u001b[38;5;241m>\u001b[39m Any:\n\u001b[1;32m    169\u001b[0m     \u001b[38;5;28;01mif\u001b[39;00m \u001b[38;5;124m\"\u001b[39m\u001b[38;5;124merror\u001b[39m\u001b[38;5;124m\"\u001b[39m \u001b[38;5;129;01min\u001b[39;00m response:\n\u001b[0;32m--> 170\u001b[0m         \u001b[43mapply_error_formatters\u001b[49m\u001b[43m(\u001b[49m\u001b[43merror_formatters\u001b[49m\u001b[43m,\u001b[49m\u001b[43m \u001b[49m\u001b[43mresponse\u001b[49m\u001b[43m)\u001b[49m\n\u001b[1;32m    171\u001b[0m         \u001b[38;5;28;01mraise\u001b[39;00m \u001b[38;5;167;01mValueError\u001b[39;00m(response[\u001b[38;5;124m\"\u001b[39m\u001b[38;5;124merror\u001b[39m\u001b[38;5;124m\"\u001b[39m])\n\u001b[1;32m    172\u001b[0m     \u001b[38;5;66;03m# NULL_RESPONSES includes None, so return False here as the default\u001b[39;00m\n\u001b[1;32m    173\u001b[0m     \u001b[38;5;66;03m# so we don't apply the null_result_formatters if there is no 'result' key\u001b[39;00m\n",
      "File \u001b[0;32m~/Desktop/Research/BGP_Chain/bgp_smart_contracts/m1-venv/lib/python3.10/site-packages/web3/manager.py:70\u001b[0m, in \u001b[0;36mapply_error_formatters\u001b[0;34m(error_formatters, response)\u001b[0m\n\u001b[1;32m     65\u001b[0m \u001b[38;5;28;01mdef\u001b[39;00m \u001b[38;5;21mapply_error_formatters\u001b[39m(\n\u001b[1;32m     66\u001b[0m     error_formatters: Callable[\u001b[38;5;241m.\u001b[39m\u001b[38;5;241m.\u001b[39m\u001b[38;5;241m.\u001b[39m, Any],\n\u001b[1;32m     67\u001b[0m     response: RPCResponse,\n\u001b[1;32m     68\u001b[0m ) \u001b[38;5;241m-\u001b[39m\u001b[38;5;241m>\u001b[39m RPCResponse:\n\u001b[1;32m     69\u001b[0m     \u001b[38;5;28;01mif\u001b[39;00m error_formatters:\n\u001b[0;32m---> 70\u001b[0m         formatted_resp \u001b[38;5;241m=\u001b[39m \u001b[43mpipe\u001b[49m\u001b[43m(\u001b[49m\u001b[43mresponse\u001b[49m\u001b[43m,\u001b[49m\u001b[43m \u001b[49m\u001b[43merror_formatters\u001b[49m\u001b[43m)\u001b[49m\n\u001b[1;32m     71\u001b[0m         \u001b[38;5;28;01mreturn\u001b[39;00m formatted_resp\n\u001b[1;32m     72\u001b[0m     \u001b[38;5;28;01melse\u001b[39;00m:\n",
      "File \u001b[0;32m~/Desktop/Research/BGP_Chain/bgp_smart_contracts/m1-venv/lib/python3.10/site-packages/cytoolz/functoolz.pyx:667\u001b[0m, in \u001b[0;36mcytoolz.functoolz.pipe\u001b[0;34m()\u001b[0m\n",
      "File \u001b[0;32m~/Desktop/Research/BGP_Chain/bgp_smart_contracts/m1-venv/lib/python3.10/site-packages/cytoolz/functoolz.pyx:642\u001b[0m, in \u001b[0;36mcytoolz.functoolz.c_pipe\u001b[0;34m()\u001b[0m\n",
      "File \u001b[0;32m~/Desktop/Research/BGP_Chain/bgp_smart_contracts/m1-venv/lib/python3.10/site-packages/web3/_utils/method_formatters.py:561\u001b[0m, in \u001b[0;36mraise_solidity_error_on_revert\u001b[0;34m(response)\u001b[0m\n\u001b[1;32m    559\u001b[0m \u001b[38;5;66;03m# Ganache case:\u001b[39;00m\n\u001b[1;32m    560\u001b[0m \u001b[38;5;28;01mif\u001b[39;00m \u001b[38;5;28misinstance\u001b[39m(data, \u001b[38;5;28mdict\u001b[39m) \u001b[38;5;129;01mand\u001b[39;00m response[\u001b[38;5;124m'\u001b[39m\u001b[38;5;124merror\u001b[39m\u001b[38;5;124m'\u001b[39m]\u001b[38;5;241m.\u001b[39mget(\u001b[38;5;124m'\u001b[39m\u001b[38;5;124mmessage\u001b[39m\u001b[38;5;124m'\u001b[39m):\n\u001b[0;32m--> 561\u001b[0m     \u001b[38;5;28;01mraise\u001b[39;00m ContractLogicError(\u001b[38;5;124mf\u001b[39m\u001b[38;5;124m'\u001b[39m\u001b[38;5;124mexecution reverted: \u001b[39m\u001b[38;5;132;01m{\u001b[39;00mresponse[\u001b[38;5;124m\"\u001b[39m\u001b[38;5;124merror\u001b[39m\u001b[38;5;124m\"\u001b[39m][\u001b[38;5;124m\"\u001b[39m\u001b[38;5;124mmessage\u001b[39m\u001b[38;5;124m\"\u001b[39m]\u001b[38;5;132;01m}\u001b[39;00m\u001b[38;5;124m'\u001b[39m)\n\u001b[1;32m    563\u001b[0m \u001b[38;5;66;03m# Parity/OpenEthereum case:\u001b[39;00m\n\u001b[1;32m    564\u001b[0m \u001b[38;5;28;01mif\u001b[39;00m data\u001b[38;5;241m.\u001b[39mstartswith(\u001b[38;5;124m'\u001b[39m\u001b[38;5;124mReverted \u001b[39m\u001b[38;5;124m'\u001b[39m):\n\u001b[1;32m    565\u001b[0m     \u001b[38;5;66;03m# \"Reverted\", function selector and offset are always the same for revert errors\u001b[39;00m\n",
      "\u001b[0;31mContractLogicError\u001b[0m: execution reverted: VM Exception while processing transaction: revert ASN<=>ASNOwner mapping already added"
     ]
    }
   ],
   "source": [
    "\n",
    "from utils.utils import *\n",
    "from eth_account.messages import encode_defunct, _hash_eip191_message\n",
    "\n",
    "inASN = 13\n",
    "inAddress = Web3.toChecksumAddress(\"0x79bb7739B28ab9D6a846012156f5eadD0dE67361\")\n",
    "print(inAddress)\n",
    "# inAddress = int(sys.argv[2], 16)\n",
    "# inAddress = hex(inAddress)\n",
    "\n",
    "load_dotenv(override=True)\n",
    "\n",
    "w3 = Web3(Web3.HTTPProvider(os.getenv(\"GANACHE_RPC_URL\")))\n",
    "chain_id = 1337\n",
    "\n",
    "my_address = os.getenv(\"ACCOUNT_ADDRESS\")\n",
    "private_key = os.getenv(\"PRIVATE_KEY\")\n",
    "\n",
    "acct2_private_key = os.getenv(\"ACCOUNT2_PRIVATE_KEY\")\n",
    "\n",
    "# ABI (Application Binary Interface), An interface for interacting with methods in a smart contract \n",
    "abi = json.loads(\n",
    "    compiled_sol[\"contracts\"][\"IANA.sol\"][\"IANA\"][\"metadata\"]\n",
    "    )[\"output\"][\"abi\"]\n",
    "\n",
    "#  call deploy.py Will get contract_address\n",
    "contract_address = os.getenv(\"CONTRACT_ADDRESS\")\n",
    "\n",
    "nonce = w3.eth.get_transaction_count(my_address)\n",
    "\n",
    "#  Instantiate the contract object \n",
    "iana = w3.eth.contract(address=contract_address, abi=abi)\n",
    "\n",
    "msgToBeSigned = iana.functions.IANA_getSignatureMessage(13, inAddress).call()\n",
    "msgToBeSignedEncoded = utils.encode_defunct_wrapper(msgToBeSigned) \t# encode msg\n",
    "msgSigned = utils.sign_message_wrapper(w3, msgToBeSignedEncoded, acct2_private_key) # sign message\n",
    "msgSignedHash, sigV, sigR, sigS = utils.generate_sig_v_r_s(msgSigned) # generate hash of signed msg, sigV, sigR, sigS\n",
    "\n",
    "#  call addPrefix Method \n",
    "transaction = iana.functions.IANA_addASNSigned(inASN, inAddress, msgSignedHash, sigV, sigR, sigS).buildTransaction({\n",
    "    \"gasPrice\": w3.eth.gas_price,\n",
    "    \"chainId\": chain_id,\n",
    "    \"from\": my_address,\n",
    "    \"nonce\": nonce\n",
    "})\n",
    "#  Signature \n",
    "signed_transaction = w3.eth.account.sign_transaction(transaction, private_key=private_key)\n",
    "#  Sending transaction \n",
    "tx_hash = w3.eth.send_raw_transaction(signed_transaction.rawTransaction)\n",
    "print('add new ASN to ASN Map SIGNED...')\n",
    "#  Waiting for the deal to complete \n",
    "tx_receipt = w3.eth.wait_for_transaction_receipt(tx_hash)\n",
    "print(\"ASN SIGNED added\")"
   ]
  },
  {
   "cell_type": "code",
   "execution_count": 9,
   "id": "a0711923",
   "metadata": {},
   "outputs": [
    {
     "name": "stdout",
     "output_type": "stream",
     "text": [
      "passed in asn address: 0xcF0A72EFd623c7aC7f9886213daFd93a2D628327\n"
     ]
    }
   ],
   "source": [
    "from ipaddress import IPv4Address\n",
    "\n",
    "inASN = 13\n",
    "inIP = IPv4Address(\"10.0.20.0\")\n",
    "inSubnet = 24\n",
    "inAsnAddress = Web3.toChecksumAddress(\"0xcF0A72EFd623c7aC7f9886213daFd93a2D628327\")\n",
    "\n",
    "load_dotenv()\n",
    "\n",
    "w3 = Web3(Web3.HTTPProvider(os.getenv(\"GANACHE_RPC_URL\")))\n",
    "chain_id = 1337\n",
    "\n",
    "my_address = os.getenv(\"ACCOUNT_ADDRESS\")\n",
    "private_key = os.getenv(\"PRIVATE_KEY\")\n",
    "\n",
    "# acct2_address = os.getenv(\"ACCOUNT2_ADDRESS\")\n",
    "acct2_private_key = os.getenv(\"ACCOUNT2_PRIVATE_KEY\") # must be privkey of inAsnAddress\n",
    "\n",
    "# ABI (Application Binary Interface), An interface for interacting with methods in a smart contract \n",
    "abi = json.loads(\n",
    "    compiled_sol[\"contracts\"][\"IANA.sol\"][\"IANA\"][\"metadata\"]\n",
    "    )[\"output\"][\"abi\"]\n",
    "\n",
    "#  call deploy.py Will get contract_address\n",
    "contract_address = os.getenv(\"CONTRACT_ADDRESS\")\n",
    "\n",
    "nonce = w3.eth.get_transaction_count(my_address)\n",
    "\n",
    "#  Instantiate the contract object \n",
    "iana = w3.eth.contract(address=contract_address, abi=abi)\n",
    "\n",
    "print(\"passed in asn address: \" + str(inAsnAddress))\n",
    "\n",
    "msgToBeSigned = iana.functions.IANA_getPrefixSignatureMessage(int(inIP), inSubnet, inASN, inAsnAddress).call()\n",
    "msgToBeSignedEncoded = utils.encode_defunct_wrapper(msgToBeSigned) \t# encode msg\n",
    "msgSigned = utils.sign_message_wrapper(w3, msgToBeSignedEncoded, acct2_private_key) # sign message\n",
    "msgSignedHash, sigV, sigR, sigS = utils.generate_sig_v_r_s(msgSigned) # generate hash of signed msg, sigV, sigR, sigS\n",
    "\n",
    "\n"
   ]
  },
  {
   "cell_type": "code",
   "execution_count": 13,
   "id": "2ee94b19",
   "metadata": {},
   "outputs": [
    {
     "name": "stdout",
     "output_type": "stream",
     "text": [
      "0xcF0A72EFd623c7aC7f9886213daFd93a2D628327 13\n"
     ]
    }
   ],
   "source": [
    "print(inAsnAddress, inASN)"
   ]
  },
  {
   "cell_type": "code",
   "execution_count": 17,
   "id": "ea8d1e51",
   "metadata": {},
   "outputs": [
    {
     "name": "stdout",
     "output_type": "stream",
     "text": [
      "0x79bb7739B28ab9D6a846012156f5eadD0dE67361\n"
     ]
    }
   ],
   "source": [
    "addr = w3.eth.account.recover_message(msgToBeSignedEncoded, signature=msgSigned.signature)\n",
    "print(addr)"
   ]
  }
 ],
 "metadata": {
  "kernelspec": {
   "display_name": "Python 3 (ipykernel)",
   "language": "python",
   "name": "python3"
  },
  "language_info": {
   "codemirror_mode": {
    "name": "ipython",
    "version": 3
   },
   "file_extension": ".py",
   "mimetype": "text/x-python",
   "name": "python",
   "nbconvert_exporter": "python",
   "pygments_lexer": "ipython3",
   "version": "3.10.4"
  }
 },
 "nbformat": 4,
 "nbformat_minor": 5
}
